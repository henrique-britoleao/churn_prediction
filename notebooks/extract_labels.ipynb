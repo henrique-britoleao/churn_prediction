{
 "cells": [
  {
   "cell_type": "code",
   "execution_count": null,
   "metadata": {},
   "outputs": [],
   "source": [
    "%load_ext autoreload\n",
    "%autoreload 2"
   ]
  },
  {
   "cell_type": "code",
   "execution_count": null,
   "metadata": {},
   "outputs": [],
   "source": [
    "import sys\n",
    "import os\n",
    "\n",
    "sys.path.append('..')\n",
    "sys.path.append('../src')\n",
    "\n",
    "import pandas as pd\n",
    "import numpy as np\n",
    "\n",
    "from functools import partial\n",
    "import constants as cst\n",
    "from loading import Loader\n",
    "from preprocessing import Preprocessor\n",
    "import seaborn as sns\n",
    "from datetime import timedelta"
   ]
  },
  {
   "cell_type": "code",
   "execution_count": null,
   "metadata": {},
   "outputs": [],
   "source": [
    "data_loader = Loader()\n",
    "data = data_loader.load_data()"
   ]
  },
  {
   "cell_type": "code",
   "execution_count": null,
   "metadata": {},
   "outputs": [],
   "source": [
    "preprocessor = Preprocessor()\n",
    "preprocessor.preprocess(data)"
   ]
  },
  {
   "cell_type": "markdown",
   "metadata": {},
   "source": [
    "# Loading data"
   ]
  },
  {
   "cell_type": "code",
   "execution_count": null,
   "metadata": {},
   "outputs": [],
   "source": [
    "data = pd.read_csv(os.path.join('..', cst.TRAIN_TRANSACTION_PATH), index_col=0)"
   ]
  },
  {
   "cell_type": "markdown",
   "metadata": {},
   "source": [
    "# Extract labels"
   ]
  },
  {
   "cell_type": "code",
   "execution_count": null,
   "metadata": {},
   "outputs": [],
   "source": [
    "def purchase_frequency(dates):\n",
    "    return pd.Timedelta(np.diff(dates.unique()).mean()).total_seconds()/(60*60*24)"
   ]
  },
  {
   "cell_type": "code",
   "execution_count": null,
   "metadata": {},
   "outputs": [],
   "source": [
    "freqs = data.groupby(by=\"client_id\", as_index=False).agg(\n",
    "    last_purchase=('date_order', 'max'), \n",
    "    frequency=('date_order', purchase_frequency), \n",
    ")"
   ]
  },
  {
   "cell_type": "code",
   "execution_count": null,
   "metadata": {},
   "outputs": [],
   "source": [
    "# define key dates\n",
    "split_day = cst.MAX_DATE - timedelta(90)\n",
    "freq_churn = split_day - timedelta(30)\n",
    "medium_churn = split_day - timedelta(90)"
   ]
  },
  {
   "cell_type": "code",
   "execution_count": null,
   "metadata": {},
   "outputs": [],
   "source": [
    "freqs.loc[(freqs['frequency'] > 0) & (freqs['frequency'] < 10), 'client_category'] = 'freq_buyer'\n",
    "freqs.loc[(freqs['frequency'] >= 10) & (freqs['frequency'] < 32), 'client_category'] = 'med_buyer'\n",
    "freqs.loc[(freqs['frequency'] >=32) | (freqs['frequency'] == 0), 'client_category'] = 'infreq_buyer'"
   ]
  },
  {
   "cell_type": "code",
   "execution_count": null,
   "metadata": {},
   "outputs": [],
   "source": [
    "freqs.loc[(freqs['client_category']=='freq_buyer') & (freqs['last_purchase'] <= freq_churn), 'is_churn'] = 1\n",
    "freqs.loc[(freqs['client_category']=='freq_buyer') & (freqs['last_purchase'] > freq_churn), 'is_churn'] = 0\n",
    "freqs.loc[(freqs['client_category']=='med_buyer') & (freqs['last_purchase'] <= medium_churn), 'is_churn'] = 1\n",
    "freqs.loc[(freqs['client_category']=='med_buyer') & (freqs['last_purchase'] > medium_churn), 'is_churn'] = 0"
   ]
  },
  {
   "cell_type": "code",
   "execution_count": null,
   "metadata": {},
   "outputs": [],
   "source": [
    "freqs.to_csv(os.path.join('..', cst.TRAIN_TARGET_PATH))"
   ]
  }
 ],
 "metadata": {
  "interpreter": {
   "hash": "61c02cc6cc60e2aa9d27ab524b81e9f4bca9132d1b517bd5e0da16c7571c3623"
  },
  "kernelspec": {
   "display_name": "Python 3.8.12 ('bcg')",
   "language": "python",
   "name": "python3"
  },
  "language_info": {
   "codemirror_mode": {
    "name": "ipython",
    "version": 3
   },
   "file_extension": ".py",
   "mimetype": "text/x-python",
   "name": "python",
   "nbconvert_exporter": "python",
   "pygments_lexer": "ipython3",
   "version": "3.8.12"
  },
  "orig_nbformat": 4
 },
 "nbformat": 4,
 "nbformat_minor": 2
}
