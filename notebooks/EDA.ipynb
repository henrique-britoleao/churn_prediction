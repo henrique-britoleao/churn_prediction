{
 "cells": [
  {
   "cell_type": "code",
   "execution_count": 1,
   "metadata": {},
   "outputs": [],
   "source": [
    "%load_ext autoreload\n",
    "%autoreload 2"
   ]
  },
  {
   "cell_type": "code",
   "execution_count": 28,
   "metadata": {},
   "outputs": [],
   "source": [
    "import sys\n",
    "\n",
    "sys.path.append('..')\n",
    "sys.path.append('../src')\n",
    "\n",
    "import pandas as pd\n",
    "import numpy as np\n",
    "\n",
    "from functools import partial\n",
    "import constants as cst\n",
    "from loading import Loader\n",
    "from preprocessing import Preprocessor"
   ]
  },
  {
   "cell_type": "code",
   "execution_count": 3,
   "metadata": {},
   "outputs": [],
   "source": [
    "data_loader = Loader()\n",
    "data = data_loader.load_data()"
   ]
  },
  {
   "cell_type": "code",
   "execution_count": 4,
   "metadata": {},
   "outputs": [
    {
     "ename": "NotImplementedError",
     "evalue": "",
     "output_type": "error",
     "traceback": [
      "\u001b[0;31m---------------------------------------------------------------------------\u001b[0m",
      "\u001b[0;31mNotImplementedError\u001b[0m                       Traceback (most recent call last)",
      "Input \u001b[0;32mIn [4]\u001b[0m, in \u001b[0;36m<module>\u001b[0;34m\u001b[0m\n\u001b[1;32m      1\u001b[0m preprocessor \u001b[38;5;241m=\u001b[39m Preprocessor()\n\u001b[0;32m----> 2\u001b[0m \u001b[43mpreprocessor\u001b[49m\u001b[38;5;241;43m.\u001b[39;49m\u001b[43mpreprocess\u001b[49m\u001b[43m(\u001b[49m\u001b[43mdata\u001b[49m\u001b[43m)\u001b[49m\n",
      "File \u001b[0;32m~/Documents/projects/bcg/notebooks/../src/preprocessing.py:28\u001b[0m, in \u001b[0;36mPreprocessor.preprocess\u001b[0;34m(self, data, train_val_split, val_split_lenght)\u001b[0m\n\u001b[1;32m     25\u001b[0m \u001b[38;5;28;01mif\u001b[39;00m train_val_split:\n\u001b[1;32m     26\u001b[0m     \u001b[38;5;28mself\u001b[39m\u001b[38;5;241m.\u001b[39mget_validation_set(data, lenght\u001b[38;5;241m=\u001b[39mval_split_lenght)\n\u001b[0;32m---> 28\u001b[0m \u001b[38;5;28;01mraise\u001b[39;00m \u001b[38;5;167;01mNotImplementedError\u001b[39;00m()\n",
      "\u001b[0;31mNotImplementedError\u001b[0m: "
     ]
    }
   ],
   "source": [
    "preprocessor = Preprocessor()\n",
    "preprocessor.preprocess(data)"
   ]
  },
  {
   "cell_type": "markdown",
   "metadata": {},
   "source": [
    "# Loading data"
   ]
  },
  {
   "cell_type": "code",
   "execution_count": 7,
   "metadata": {},
   "outputs": [],
   "source": [
    "data_loader = Loader(sample=1_000_000)\n",
    "data = data_loader.load_data('../data/inputs/transactions_dataset.csv')"
   ]
  },
  {
   "cell_type": "code",
   "execution_count": 10,
   "metadata": {},
   "outputs": [
    {
     "data": {
      "text/html": [
       "<div>\n",
       "<style scoped>\n",
       "    .dataframe tbody tr th:only-of-type {\n",
       "        vertical-align: middle;\n",
       "    }\n",
       "\n",
       "    .dataframe tbody tr th {\n",
       "        vertical-align: top;\n",
       "    }\n",
       "\n",
       "    .dataframe thead th {\n",
       "        text-align: right;\n",
       "    }\n",
       "</style>\n",
       "<table border=\"1\" class=\"dataframe\">\n",
       "  <thead>\n",
       "    <tr style=\"text-align: right;\">\n",
       "      <th></th>\n",
       "      <th>date_order</th>\n",
       "      <th>date_invoice</th>\n",
       "      <th>product_id</th>\n",
       "      <th>client_id</th>\n",
       "      <th>sales_net</th>\n",
       "      <th>quantity</th>\n",
       "      <th>order_channel</th>\n",
       "      <th>branch_id</th>\n",
       "    </tr>\n",
       "  </thead>\n",
       "  <tbody>\n",
       "    <tr>\n",
       "      <th>0</th>\n",
       "      <td>2017-09-25</td>\n",
       "      <td>2017-09-25</td>\n",
       "      <td>2376333</td>\n",
       "      <td>188502</td>\n",
       "      <td>155.44320</td>\n",
       "      <td>3</td>\n",
       "      <td>online</td>\n",
       "      <td>2732</td>\n",
       "    </tr>\n",
       "    <tr>\n",
       "      <th>1</th>\n",
       "      <td>2017-09-25</td>\n",
       "      <td>2017-09-25</td>\n",
       "      <td>2520527</td>\n",
       "      <td>835089</td>\n",
       "      <td>16.39440</td>\n",
       "      <td>3</td>\n",
       "      <td>at the store</td>\n",
       "      <td>10279</td>\n",
       "    </tr>\n",
       "    <tr>\n",
       "      <th>2</th>\n",
       "      <td>2017-09-25</td>\n",
       "      <td>2017-09-25</td>\n",
       "      <td>2536756</td>\n",
       "      <td>1977896</td>\n",
       "      <td>365.76624</td>\n",
       "      <td>21</td>\n",
       "      <td>online</td>\n",
       "      <td>6184</td>\n",
       "    </tr>\n",
       "    <tr>\n",
       "      <th>3</th>\n",
       "      <td>2017-09-25</td>\n",
       "      <td>2017-09-25</td>\n",
       "      <td>3028673</td>\n",
       "      <td>598816</td>\n",
       "      <td>8.59878</td>\n",
       "      <td>201</td>\n",
       "      <td>at the store</td>\n",
       "      <td>4200</td>\n",
       "    </tr>\n",
       "    <tr>\n",
       "      <th>4</th>\n",
       "      <td>2017-09-25</td>\n",
       "      <td>2017-09-25</td>\n",
       "      <td>203377</td>\n",
       "      <td>2086861</td>\n",
       "      <td>1093.37400</td>\n",
       "      <td>3</td>\n",
       "      <td>by phone</td>\n",
       "      <td>7051</td>\n",
       "    </tr>\n",
       "  </tbody>\n",
       "</table>\n",
       "</div>"
      ],
      "text/plain": [
       "   date_order date_invoice  product_id  client_id   sales_net  quantity  \\\n",
       "0  2017-09-25   2017-09-25     2376333     188502   155.44320         3   \n",
       "1  2017-09-25   2017-09-25     2520527     835089    16.39440         3   \n",
       "2  2017-09-25   2017-09-25     2536756    1977896   365.76624        21   \n",
       "3  2017-09-25   2017-09-25     3028673     598816     8.59878       201   \n",
       "4  2017-09-25   2017-09-25      203377    2086861  1093.37400         3   \n",
       "\n",
       "  order_channel  branch_id  \n",
       "0        online       2732  \n",
       "1  at the store      10279  \n",
       "2        online       6184  \n",
       "3  at the store       4200  \n",
       "4      by phone       7051  "
      ]
     },
     "execution_count": 10,
     "metadata": {},
     "output_type": "execute_result"
    }
   ],
   "source": [
    "data.head()"
   ]
  },
  {
   "cell_type": "markdown",
   "metadata": {},
   "source": [
    "# Data Quality checks"
   ]
  },
  {
   "cell_type": "markdown",
   "metadata": {},
   "source": [
    "## Quantity"
   ]
  },
  {
   "cell_type": "code",
   "execution_count": 24,
   "metadata": {},
   "outputs": [
    {
     "data": {
      "text/plain": [
       "0"
      ]
     },
     "execution_count": 24,
     "metadata": {},
     "output_type": "execute_result"
    }
   ],
   "source": [
    "(data['quantity'] <= 0).sum()"
   ]
  },
  {
   "cell_type": "code",
   "execution_count": 30,
   "metadata": {},
   "outputs": [
    {
     "data": {
      "text/plain": [
       "<AxesSubplot:ylabel='Frequency'>"
      ]
     },
     "execution_count": 30,
     "metadata": {},
     "output_type": "execute_result"
    },
    {
     "data": {
      "image/png": "[encoded data removed]",
      "text/plain": [
       "<Figure size 432x288 with 1 Axes>"
      ]
     },
     "metadata": {
      "needs_background": "light"
     },
     "output_type": "display_data"
    }
   ],
   "source": [
    "np.log(data['quantity']).plot(kind='hist', bins=100)"
   ]
  },
  {
   "cell_type": "markdown",
   "metadata": {},
   "source": [
    "## Sales Net"
   ]
  },
  {
   "cell_type": "code",
   "execution_count": 31,
   "metadata": {},
   "outputs": [
    {
     "data": {
      "text/plain": [
       "4654"
      ]
     },
     "execution_count": 31,
     "metadata": {},
     "output_type": "execute_result"
    }
   ],
   "source": [
    "(data['sales_net'] <= 0).sum()"
   ]
  },
  {
   "cell_type": "code",
   "execution_count": 33,
   "metadata": {},
   "outputs": [
    {
     "data": {
      "text/plain": [
       "<AxesSubplot:ylabel='Frequency'>"
      ]
     },
     "execution_count": 33,
     "metadata": {},
     "output_type": "execute_result"
    },
    {
     "data": {
      "image/png": "[encoded data removed]",
      "text/plain": [
       "<Figure size 432x288 with 1 Axes>"
      ]
     },
     "metadata": {
      "needs_background": "light"
     },
     "output_type": "display_data"
    }
   ],
   "source": [
    "data['sales_net'].plot(kind='hist', bins=100)"
   ]
  },
  {
   "cell_type": "markdown",
   "metadata": {},
   "source": [
    "## Dates"
   ]
  },
  {
   "cell_type": "code",
   "execution_count": 10,
   "metadata": {},
   "outputs": [
    {
     "name": "stdout",
     "output_type": "stream",
     "text": [
      "2021-07-13 00:00:00\n",
      "2016-10-12 00:00:00\n"
     ]
    }
   ],
   "source": [
    "invoices_date = pd.to_datetime(data['date_invoice'])\n",
    "print(max(invoices_date))\n",
    "print(min(invoices_date))"
   ]
  },
  {
   "cell_type": "code",
   "execution_count": 11,
   "metadata": {},
   "outputs": [
    {
     "name": "stdout",
     "output_type": "stream",
     "text": [
      "2019-09-22 00:00:00\n",
      "2017-09-22 00:00:00\n"
     ]
    }
   ],
   "source": [
    "orders_date = pd.to_datetime(data['date_order'])\n",
    "print(max(orders_date))\n",
    "print(min(orders_date))"
   ]
  },
  {
   "cell_type": "markdown",
   "metadata": {},
   "source": [
    "## Order Channel"
   ]
  },
  {
   "cell_type": "code",
   "execution_count": 40,
   "metadata": {},
   "outputs": [
    {
     "data": {
      "text/plain": [
       "array(['online', 'at the store', 'by phone',\n",
       "       'during the visit of a sales rep', 'other'], dtype=object)"
      ]
     },
     "execution_count": 40,
     "metadata": {},
     "output_type": "execute_result"
    }
   ],
   "source": [
    "data['order_channel'].unique()"
   ]
  },
  {
   "cell_type": "markdown",
   "metadata": {},
   "source": [
    "# Sales Cycle Analysis"
   ]
  },
  {
   "cell_type": "code",
   "execution_count": 5,
   "metadata": {},
   "outputs": [],
   "source": [
    "def avg_date_diff(x):\n",
    "    # Integer number of Days\n",
    "    return pd.Timedelta(np.diff(x).mean()).total_seconds()/(60*60*24)\n"
   ]
  },
  {
   "cell_type": "code",
   "execution_count": 6,
   "metadata": {},
   "outputs": [],
   "source": [
    "data['date_order'] = pd.to_datetime(data['date_order'])"
   ]
  },
  {
   "cell_type": "code",
   "execution_count": 7,
   "metadata": {},
   "outputs": [
    {
     "name": "stderr",
     "output_type": "stream",
     "text": [
      "/var/folders/4b/dwg2nq6d56bdx_qd1pqxp_800000gn/T/ipykernel_26839/2249865063.py:3: RuntimeWarning: Mean of empty slice.\n",
      "  return pd.Timedelta(np.diff(x).mean()).total_seconds()/(60*60*24)\n",
      "/Users/henrique/miniforge3/envs/bcg/lib/python3.8/site-packages/numpy/core/_methods.py:189: RuntimeWarning: divide by zero encountered in true_divide\n",
      "  ret = ret.dtype.type(ret / rcount)\n"
     ]
    }
   ],
   "source": [
    "data = data.sort_values('date_order')\n",
    "test = data.groupby(by=['client_id'])['date_order'].agg(['size', 'min', 'max', avg_date_diff]).reset_index()"
   ]
  },
  {
   "cell_type": "code",
   "execution_count": 27,
   "metadata": {},
   "outputs": [],
   "source": [
    "test.loc[(test['avg_date_diff'] >= 0) & (test['avg_date_diff'] < 10), 'frequency_category'] = 'freq'\n",
    "test.loc[(test['avg_date_diff'] >= 10) & (test['avg_date_diff'] < 35), 'frequency_category'] = 'med'\n",
    "test.loc[(test['avg_date_diff'] >= 35) | (test['avg_date_diff'] == 0), 'frequency_category'] = 'infreq'"
   ]
  },
  {
   "cell_type": "code",
   "execution_count": 9,
   "metadata": {},
   "outputs": [],
   "source": [
    "test.to_csv('intermediate_step.csv')"
   ]
  },
  {
   "cell_type": "code",
   "execution_count": 3,
   "metadata": {},
   "outputs": [],
   "source": [
    "test = pd.read_csv('intermediate_step.csv', index_col=0)"
   ]
  },
  {
   "cell_type": "code",
   "execution_count": 5,
   "metadata": {},
   "outputs": [
    {
     "data": {
      "text/html": [
       "<div>\n",
       "<style scoped>\n",
       "    .dataframe tbody tr th:only-of-type {\n",
       "        vertical-align: middle;\n",
       "    }\n",
       "\n",
       "    .dataframe tbody tr th {\n",
       "        vertical-align: top;\n",
       "    }\n",
       "\n",
       "    .dataframe thead th {\n",
       "        text-align: right;\n",
       "    }\n",
       "</style>\n",
       "<table border=\"1\" class=\"dataframe\">\n",
       "  <thead>\n",
       "    <tr style=\"text-align: right;\">\n",
       "      <th></th>\n",
       "      <th>client_id</th>\n",
       "      <th>size</th>\n",
       "      <th>min</th>\n",
       "      <th>avg_date_diff</th>\n",
       "      <th>frequency_category</th>\n",
       "    </tr>\n",
       "  </thead>\n",
       "  <tbody>\n",
       "    <tr>\n",
       "      <th>0</th>\n",
       "      <td>6</td>\n",
       "      <td>40</td>\n",
       "      <td>2017-10-27</td>\n",
       "      <td>16.794872</td>\n",
       "      <td>med</td>\n",
       "    </tr>\n",
       "    <tr>\n",
       "      <th>1</th>\n",
       "      <td>7</td>\n",
       "      <td>15</td>\n",
       "      <td>2018-07-16</td>\n",
       "      <td>11.500000</td>\n",
       "      <td>med</td>\n",
       "    </tr>\n",
       "    <tr>\n",
       "      <th>2</th>\n",
       "      <td>14</td>\n",
       "      <td>12762</td>\n",
       "      <td>2017-09-25</td>\n",
       "      <td>0.056814</td>\n",
       "      <td>freq</td>\n",
       "    </tr>\n",
       "    <tr>\n",
       "      <th>3</th>\n",
       "      <td>18</td>\n",
       "      <td>2224</td>\n",
       "      <td>2017-09-26</td>\n",
       "      <td>0.322087</td>\n",
       "      <td>freq</td>\n",
       "    </tr>\n",
       "    <tr>\n",
       "      <th>4</th>\n",
       "      <td>25</td>\n",
       "      <td>4</td>\n",
       "      <td>2018-10-10</td>\n",
       "      <td>0.000000</td>\n",
       "      <td>freq</td>\n",
       "    </tr>\n",
       "    <tr>\n",
       "      <th>...</th>\n",
       "      <td>...</td>\n",
       "      <td>...</td>\n",
       "      <td>...</td>\n",
       "      <td>...</td>\n",
       "      <td>...</td>\n",
       "    </tr>\n",
       "    <tr>\n",
       "      <th>170582</th>\n",
       "      <td>2274437</td>\n",
       "      <td>2</td>\n",
       "      <td>2018-04-24</td>\n",
       "      <td>0.000000</td>\n",
       "      <td>freq</td>\n",
       "    </tr>\n",
       "    <tr>\n",
       "      <th>170583</th>\n",
       "      <td>2274440</td>\n",
       "      <td>111</td>\n",
       "      <td>2017-09-28</td>\n",
       "      <td>6.490909</td>\n",
       "      <td>freq</td>\n",
       "    </tr>\n",
       "    <tr>\n",
       "      <th>170584</th>\n",
       "      <td>2274456</td>\n",
       "      <td>22</td>\n",
       "      <td>2019-08-26</td>\n",
       "      <td>0.333333</td>\n",
       "      <td>freq</td>\n",
       "    </tr>\n",
       "    <tr>\n",
       "      <th>170587</th>\n",
       "      <td>2274508</td>\n",
       "      <td>8</td>\n",
       "      <td>2017-10-18</td>\n",
       "      <td>0.000000</td>\n",
       "      <td>freq</td>\n",
       "    </tr>\n",
       "    <tr>\n",
       "      <th>170588</th>\n",
       "      <td>2274517</td>\n",
       "      <td>82</td>\n",
       "      <td>2017-10-02</td>\n",
       "      <td>8.592593</td>\n",
       "      <td>freq</td>\n",
       "    </tr>\n",
       "  </tbody>\n",
       "</table>\n",
       "<p>155094 rows × 5 columns</p>\n",
       "</div>"
      ],
      "text/plain": [
       "        client_id   size         min  avg_date_diff frequency_category\n",
       "0               6     40  2017-10-27      16.794872                med\n",
       "1               7     15  2018-07-16      11.500000                med\n",
       "2              14  12762  2017-09-25       0.056814               freq\n",
       "3              18   2224  2017-09-26       0.322087               freq\n",
       "4              25      4  2018-10-10       0.000000               freq\n",
       "...           ...    ...         ...            ...                ...\n",
       "170582    2274437      2  2018-04-24       0.000000               freq\n",
       "170583    2274440    111  2017-09-28       6.490909               freq\n",
       "170584    2274456     22  2019-08-26       0.333333               freq\n",
       "170587    2274508      8  2017-10-18       0.000000               freq\n",
       "170588    2274517     82  2017-10-02       8.592593               freq\n",
       "\n",
       "[155094 rows x 5 columns]"
      ]
     },
     "execution_count": 5,
     "metadata": {},
     "output_type": "execute_result"
    }
   ],
   "source": [
    "test.loc[test['frequency_category']!='infreq', :]"
   ]
  },
  {
   "cell_type": "code",
   "execution_count": 12,
   "metadata": {},
   "outputs": [
    {
     "data": {
      "text/plain": [
       "<AxesSubplot:xlabel='avg_date_diff', ylabel='Count'>"
      ]
     },
     "execution_count": 12,
     "metadata": {},
     "output_type": "execute_result"
    },
    {
     "data": {
      "image/png": "[encoded data removed]",
      "text/plain": [
       "<Figure size 432x288 with 1 Axes>"
      ]
     },
     "metadata": {
      "needs_background": "light"
     },
     "output_type": "display_data"
    }
   ],
   "source": [
    "import seaborn as sns\n",
    "\n",
    "sns.histplot(test.loc[test['frequency_category']!='infreq', :], x='avg_date_diff', hue='frequency_category')"
   ]
  },
  {
   "cell_type": "code",
   "execution_count": 22,
   "metadata": {},
   "outputs": [
    {
     "data": {
      "text/plain": [
       "datetime.datetime(2019, 9, 2, 0, 0)"
      ]
     },
     "execution_count": 22,
     "metadata": {},
     "output_type": "execute_result"
    }
   ],
   "source": [
    "from datetime import datetime, timedelta\n",
    "datetime.strptime('2019-09-22', '%Y-%m-%d') - timedelta(20)"
   ]
  },
  {
   "cell_type": "code",
   "execution_count": 38,
   "metadata": {},
   "outputs": [],
   "source": [
    "from datetime import datetime\n",
    "test['is_churn'] = 0\n",
    "test.loc[(test['frequency_category'] == 'freq') & (test['max'] < datetime.strptime('2019-09-22', '%Y-%m-%d') - timedelta(40)), 'is_churn'] = 1\n",
    "test.loc[(test['frequency_category'] == 'med') & (test['max'] < datetime.strptime('2019-09-22', '%Y-%m-%d') - timedelta(100)), 'is_churn'] = 1\n",
    "test.loc[(test['frequency_category'] == 'infreq') & (test['max'] < datetime.strptime('2019-09-22', '%Y-%m-%d') - timedelta(400)), 'is_churn'] = 1"
   ]
  },
  {
   "cell_type": "code",
   "execution_count": 39,
   "metadata": {},
   "outputs": [
    {
     "name": "stdout",
     "output_type": "stream",
     "text": [
      "58316\n",
      "0.34185088135811803\n"
     ]
    }
   ],
   "source": [
    "print((test['is_churn'] == 1).sum())\n",
    "print((test['is_churn'] == 1).sum()/170589)"
   ]
  },
  {
   "cell_type": "markdown",
   "metadata": {},
   "source": [
    "# Feature engineering"
   ]
  },
  {
   "cell_type": "code",
   "execution_count": 31,
   "metadata": {},
   "outputs": [],
   "source": [
    "data = pd.read_csv('../data/train/train_transactions.csv', index_col=0)"
   ]
  },
  {
   "cell_type": "code",
   "execution_count": 33,
   "metadata": {},
   "outputs": [],
   "source": [
    "data['date_order'] = pd.to_datetime(data['date_order'])\n",
    "data = data.sort_values('date_order')"
   ]
  },
  {
   "cell_type": "code",
   "execution_count": 34,
   "metadata": {},
   "outputs": [],
   "source": [
    "def purchase_frequency(dates):\n",
    "    return pd.Timedelta(np.diff(dates.unique()).mean()).total_seconds()/(60*60*24)\n",
    "\n",
    "def time_delay(dates, n=1):\n",
    "    try:\n",
    "        return pd.Timedelta(dates.iloc[-n] - dates.iloc[-n-1]).total_seconds()/(60*60*24)\n",
    "    except IndexError:\n",
    "        return np.nan\n",
    "    \n",
    "def lifetime(dates):\n",
    "    return pd.Timedelta(dates.iloc[-1] - dates.iloc[0]).total_seconds()/(60*60*24)\n",
    "\n",
    "def time_from_today(dates, n=0):\n",
    "    return pd.Timedelta(cst.MAX_DATE - dates.iloc[n]).total_seconds()/(60*60*24)\n",
    "\n",
    "def last(sequence, n=1):\n",
    "    try:\n",
    "        return sequence.iloc[-n]\n",
    "    except IndexError:\n",
    "        return np.nan\n",
    "\n",
    "def item_freq(series, item):\n",
    "    if not np.isin(item, series):\n",
    "        return 0\n",
    "    else:\n",
    "        return series.value_counts(normalize=True)[item]\n",
    "        \n"
   ]
  },
  {
   "cell_type": "code",
   "execution_count": 47,
   "metadata": {},
   "outputs": [
    {
     "name": "stderr",
     "output_type": "stream",
     "text": [
      "/var/folders/4b/dwg2nq6d56bdx_qd1pqxp_800000gn/T/ipykernel_38604/1958035026.py:2: RuntimeWarning: Mean of empty slice.\n",
      "  return pd.Timedelta(np.diff(dates.unique()).mean()).total_seconds()/(60*60*24)\n",
      "/Users/henrique/miniforge3/envs/bcg/lib/python3.8/site-packages/numpy/core/_methods.py:189: RuntimeWarning: divide by zero encountered in true_divide\n",
      "  ret = ret.dtype.type(ret / rcount)\n"
     ]
    },
    {
     "data": {
      "text/html": [
       "<div>\n",
       "<style scoped>\n",
       "    .dataframe tbody tr th:only-of-type {\n",
       "        vertical-align: middle;\n",
       "    }\n",
       "\n",
       "    .dataframe tbody tr th {\n",
       "        vertical-align: top;\n",
       "    }\n",
       "\n",
       "    .dataframe thead th {\n",
       "        text-align: right;\n",
       "    }\n",
       "</style>\n",
       "<table border=\"1\" class=\"dataframe\">\n",
       "  <thead>\n",
       "    <tr style=\"text-align: right;\">\n",
       "      <th></th>\n",
       "      <th>client_id</th>\n",
       "      <th>mean_qty</th>\n",
       "      <th>max_qty</th>\n",
       "      <th>min_qty</th>\n",
       "      <th>std_qty</th>\n",
       "      <th>last_qty_1</th>\n",
       "      <th>last_qty_2</th>\n",
       "      <th>last_qty_3</th>\n",
       "      <th>last_qty_4</th>\n",
       "      <th>mean_sales</th>\n",
       "      <th>...</th>\n",
       "      <th>n_product</th>\n",
       "      <th>purchase_freq</th>\n",
       "      <th>n_purchases</th>\n",
       "      <th>delay_purchase_n1</th>\n",
       "      <th>delay_purchase_n2</th>\n",
       "      <th>delay_purchase_n3</th>\n",
       "      <th>delay_purchase_n4</th>\n",
       "      <th>client_age</th>\n",
       "      <th>time_from_last_purchase</th>\n",
       "      <th>client_lifetime</th>\n",
       "    </tr>\n",
       "  </thead>\n",
       "  <tbody>\n",
       "    <tr>\n",
       "      <th>0</th>\n",
       "      <td>6</td>\n",
       "      <td>43.166667</td>\n",
       "      <td>401</td>\n",
       "      <td>3</td>\n",
       "      <td>84.589889</td>\n",
       "      <td>3</td>\n",
       "      <td>3.0</td>\n",
       "      <td>3.0</td>\n",
       "      <td>121.0</td>\n",
       "      <td>145.516130</td>\n",
       "      <td>...</td>\n",
       "      <td>24</td>\n",
       "      <td>52.666667</td>\n",
       "      <td>24</td>\n",
       "      <td>0.0</td>\n",
       "      <td>1.0</td>\n",
       "      <td>33.0</td>\n",
       "      <td>48.0</td>\n",
       "      <td>695.0</td>\n",
       "      <td>221.0</td>\n",
       "      <td>474.0</td>\n",
       "    </tr>\n",
       "    <tr>\n",
       "      <th>1</th>\n",
       "      <td>7</td>\n",
       "      <td>6.600000</td>\n",
       "      <td>17</td>\n",
       "      <td>3</td>\n",
       "      <td>4.792852</td>\n",
       "      <td>5</td>\n",
       "      <td>3.0</td>\n",
       "      <td>5.0</td>\n",
       "      <td>3.0</td>\n",
       "      <td>79.385139</td>\n",
       "      <td>...</td>\n",
       "      <td>10</td>\n",
       "      <td>161.000000</td>\n",
       "      <td>15</td>\n",
       "      <td>0.0</td>\n",
       "      <td>0.0</td>\n",
       "      <td>0.0</td>\n",
       "      <td>0.0</td>\n",
       "      <td>433.0</td>\n",
       "      <td>272.0</td>\n",
       "      <td>161.0</td>\n",
       "    </tr>\n",
       "    <tr>\n",
       "      <th>2</th>\n",
       "      <td>14</td>\n",
       "      <td>115.213091</td>\n",
       "      <td>7201</td>\n",
       "      <td>3</td>\n",
       "      <td>439.127686</td>\n",
       "      <td>61</td>\n",
       "      <td>61.0</td>\n",
       "      <td>41.0</td>\n",
       "      <td>21.0</td>\n",
       "      <td>264.616990</td>\n",
       "      <td>...</td>\n",
       "      <td>4106</td>\n",
       "      <td>1.437642</td>\n",
       "      <td>10343</td>\n",
       "      <td>0.0</td>\n",
       "      <td>0.0</td>\n",
       "      <td>0.0</td>\n",
       "      <td>0.0</td>\n",
       "      <td>727.0</td>\n",
       "      <td>93.0</td>\n",
       "      <td>634.0</td>\n",
       "    </tr>\n",
       "    <tr>\n",
       "      <th>3</th>\n",
       "      <td>18</td>\n",
       "      <td>35.180212</td>\n",
       "      <td>2301</td>\n",
       "      <td>3</td>\n",
       "      <td>104.318822</td>\n",
       "      <td>3</td>\n",
       "      <td>3.0</td>\n",
       "      <td>9.0</td>\n",
       "      <td>5.0</td>\n",
       "      <td>117.081811</td>\n",
       "      <td>...</td>\n",
       "      <td>684</td>\n",
       "      <td>2.548387</td>\n",
       "      <td>1698</td>\n",
       "      <td>0.0</td>\n",
       "      <td>0.0</td>\n",
       "      <td>0.0</td>\n",
       "      <td>0.0</td>\n",
       "      <td>726.0</td>\n",
       "      <td>94.0</td>\n",
       "      <td>632.0</td>\n",
       "    </tr>\n",
       "    <tr>\n",
       "      <th>4</th>\n",
       "      <td>25</td>\n",
       "      <td>27.000000</td>\n",
       "      <td>51</td>\n",
       "      <td>3</td>\n",
       "      <td>27.712813</td>\n",
       "      <td>51</td>\n",
       "      <td>3.0</td>\n",
       "      <td>3.0</td>\n",
       "      <td>51.0</td>\n",
       "      <td>93.646524</td>\n",
       "      <td>...</td>\n",
       "      <td>4</td>\n",
       "      <td>NaN</td>\n",
       "      <td>4</td>\n",
       "      <td>0.0</td>\n",
       "      <td>0.0</td>\n",
       "      <td>0.0</td>\n",
       "      <td>NaN</td>\n",
       "      <td>347.0</td>\n",
       "      <td>347.0</td>\n",
       "      <td>0.0</td>\n",
       "    </tr>\n",
       "    <tr>\n",
       "      <th>...</th>\n",
       "      <td>...</td>\n",
       "      <td>...</td>\n",
       "      <td>...</td>\n",
       "      <td>...</td>\n",
       "      <td>...</td>\n",
       "      <td>...</td>\n",
       "      <td>...</td>\n",
       "      <td>...</td>\n",
       "      <td>...</td>\n",
       "      <td>...</td>\n",
       "      <td>...</td>\n",
       "      <td>...</td>\n",
       "      <td>...</td>\n",
       "      <td>...</td>\n",
       "      <td>...</td>\n",
       "      <td>...</td>\n",
       "      <td>...</td>\n",
       "      <td>...</td>\n",
       "      <td>...</td>\n",
       "      <td>...</td>\n",
       "      <td>...</td>\n",
       "    </tr>\n",
       "    <tr>\n",
       "      <th>163901</th>\n",
       "      <td>2274440</td>\n",
       "      <td>31.979592</td>\n",
       "      <td>201</td>\n",
       "      <td>3</td>\n",
       "      <td>54.991092</td>\n",
       "      <td>101</td>\n",
       "      <td>3.0</td>\n",
       "      <td>3.0</td>\n",
       "      <td>3.0</td>\n",
       "      <td>197.010838</td>\n",
       "      <td>...</td>\n",
       "      <td>83</td>\n",
       "      <td>30.047619</td>\n",
       "      <td>98</td>\n",
       "      <td>0.0</td>\n",
       "      <td>24.0</td>\n",
       "      <td>0.0</td>\n",
       "      <td>0.0</td>\n",
       "      <td>724.0</td>\n",
       "      <td>93.0</td>\n",
       "      <td>631.0</td>\n",
       "    </tr>\n",
       "    <tr>\n",
       "      <th>163902</th>\n",
       "      <td>2274479</td>\n",
       "      <td>4.250000</td>\n",
       "      <td>7</td>\n",
       "      <td>3</td>\n",
       "      <td>1.832251</td>\n",
       "      <td>7</td>\n",
       "      <td>7.0</td>\n",
       "      <td>3.0</td>\n",
       "      <td>5.0</td>\n",
       "      <td>61.990175</td>\n",
       "      <td>...</td>\n",
       "      <td>5</td>\n",
       "      <td>485.000000</td>\n",
       "      <td>8</td>\n",
       "      <td>0.0</td>\n",
       "      <td>0.0</td>\n",
       "      <td>0.0</td>\n",
       "      <td>485.0</td>\n",
       "      <td>692.0</td>\n",
       "      <td>207.0</td>\n",
       "      <td>485.0</td>\n",
       "    </tr>\n",
       "    <tr>\n",
       "      <th>163903</th>\n",
       "      <td>2274504</td>\n",
       "      <td>3.500000</td>\n",
       "      <td>5</td>\n",
       "      <td>3</td>\n",
       "      <td>1.000000</td>\n",
       "      <td>5</td>\n",
       "      <td>3.0</td>\n",
       "      <td>3.0</td>\n",
       "      <td>3.0</td>\n",
       "      <td>28.314150</td>\n",
       "      <td>...</td>\n",
       "      <td>4</td>\n",
       "      <td>425.000000</td>\n",
       "      <td>4</td>\n",
       "      <td>425.0</td>\n",
       "      <td>0.0</td>\n",
       "      <td>0.0</td>\n",
       "      <td>NaN</td>\n",
       "      <td>689.0</td>\n",
       "      <td>264.0</td>\n",
       "      <td>425.0</td>\n",
       "    </tr>\n",
       "    <tr>\n",
       "      <th>163904</th>\n",
       "      <td>2274508</td>\n",
       "      <td>28.500000</td>\n",
       "      <td>101</td>\n",
       "      <td>3</td>\n",
       "      <td>48.342528</td>\n",
       "      <td>3</td>\n",
       "      <td>5.0</td>\n",
       "      <td>5.0</td>\n",
       "      <td>101.0</td>\n",
       "      <td>18.175474</td>\n",
       "      <td>...</td>\n",
       "      <td>4</td>\n",
       "      <td>NaN</td>\n",
       "      <td>4</td>\n",
       "      <td>0.0</td>\n",
       "      <td>0.0</td>\n",
       "      <td>0.0</td>\n",
       "      <td>NaN</td>\n",
       "      <td>704.0</td>\n",
       "      <td>704.0</td>\n",
       "      <td>0.0</td>\n",
       "    </tr>\n",
       "    <tr>\n",
       "      <th>163905</th>\n",
       "      <td>2274517</td>\n",
       "      <td>84.172414</td>\n",
       "      <td>201</td>\n",
       "      <td>3</td>\n",
       "      <td>62.667079</td>\n",
       "      <td>201</td>\n",
       "      <td>9.0</td>\n",
       "      <td>61.0</td>\n",
       "      <td>41.0</td>\n",
       "      <td>249.290027</td>\n",
       "      <td>...</td>\n",
       "      <td>27</td>\n",
       "      <td>29.684211</td>\n",
       "      <td>58</td>\n",
       "      <td>10.0</td>\n",
       "      <td>39.0</td>\n",
       "      <td>0.0</td>\n",
       "      <td>57.0</td>\n",
       "      <td>720.0</td>\n",
       "      <td>156.0</td>\n",
       "      <td>564.0</td>\n",
       "    </tr>\n",
       "  </tbody>\n",
       "</table>\n",
       "<p>163906 rows × 28 columns</p>\n",
       "</div>"
      ],
      "text/plain": [
       "        client_id    mean_qty  max_qty  min_qty     std_qty  last_qty_1  \\\n",
       "0               6   43.166667      401        3   84.589889           3   \n",
       "1               7    6.600000       17        3    4.792852           5   \n",
       "2              14  115.213091     7201        3  439.127686          61   \n",
       "3              18   35.180212     2301        3  104.318822           3   \n",
       "4              25   27.000000       51        3   27.712813          51   \n",
       "...           ...         ...      ...      ...         ...         ...   \n",
       "163901    2274440   31.979592      201        3   54.991092         101   \n",
       "163902    2274479    4.250000        7        3    1.832251           7   \n",
       "163903    2274504    3.500000        5        3    1.000000           5   \n",
       "163904    2274508   28.500000      101        3   48.342528           3   \n",
       "163905    2274517   84.172414      201        3   62.667079         201   \n",
       "\n",
       "        last_qty_2  last_qty_3  last_qty_4  mean_sales  ...  n_product  \\\n",
       "0              3.0         3.0       121.0  145.516130  ...         24   \n",
       "1              3.0         5.0         3.0   79.385139  ...         10   \n",
       "2             61.0        41.0        21.0  264.616990  ...       4106   \n",
       "3              3.0         9.0         5.0  117.081811  ...        684   \n",
       "4              3.0         3.0        51.0   93.646524  ...          4   \n",
       "...            ...         ...         ...         ...  ...        ...   \n",
       "163901         3.0         3.0         3.0  197.010838  ...         83   \n",
       "163902         7.0         3.0         5.0   61.990175  ...          5   \n",
       "163903         3.0         3.0         3.0   28.314150  ...          4   \n",
       "163904         5.0         5.0       101.0   18.175474  ...          4   \n",
       "163905         9.0        61.0        41.0  249.290027  ...         27   \n",
       "\n",
       "        purchase_freq  n_purchases  delay_purchase_n1  delay_purchase_n2  \\\n",
       "0           52.666667           24                0.0                1.0   \n",
       "1          161.000000           15                0.0                0.0   \n",
       "2            1.437642        10343                0.0                0.0   \n",
       "3            2.548387         1698                0.0                0.0   \n",
       "4                 NaN            4                0.0                0.0   \n",
       "...               ...          ...                ...                ...   \n",
       "163901      30.047619           98                0.0               24.0   \n",
       "163902     485.000000            8                0.0                0.0   \n",
       "163903     425.000000            4              425.0                0.0   \n",
       "163904            NaN            4                0.0                0.0   \n",
       "163905      29.684211           58               10.0               39.0   \n",
       "\n",
       "        delay_purchase_n3  delay_purchase_n4  client_age  \\\n",
       "0                    33.0               48.0       695.0   \n",
       "1                     0.0                0.0       433.0   \n",
       "2                     0.0                0.0       727.0   \n",
       "3                     0.0                0.0       726.0   \n",
       "4                     0.0                NaN       347.0   \n",
       "...                   ...                ...         ...   \n",
       "163901                0.0                0.0       724.0   \n",
       "163902                0.0              485.0       692.0   \n",
       "163903                0.0                NaN       689.0   \n",
       "163904                0.0                NaN       704.0   \n",
       "163905                0.0               57.0       720.0   \n",
       "\n",
       "        time_from_last_purchase  client_lifetime  \n",
       "0                         221.0            474.0  \n",
       "1                         272.0            161.0  \n",
       "2                          93.0            634.0  \n",
       "3                          94.0            632.0  \n",
       "4                         347.0              0.0  \n",
       "...                         ...              ...  \n",
       "163901                     93.0            631.0  \n",
       "163902                    207.0            485.0  \n",
       "163903                    264.0            425.0  \n",
       "163904                    704.0              0.0  \n",
       "163905                    156.0            564.0  \n",
       "\n",
       "[163906 rows x 28 columns]"
      ]
     },
     "execution_count": 47,
     "metadata": {},
     "output_type": "execute_result"
    }
   ],
   "source": [
    "features = data.groupby(by=\"client_id\", as_index=False).agg(\n",
    "    # online_percent=(\"order_channel\", partial(item_freq, item=\"online\")),\n",
    "    # phone_percent=(\"order_channel\", partial(item_freq, item=\"by phone\")),\n",
    "    # store_percent=(\"order_channel\", partial(item_freq, item=\"at the store\")),\n",
    "    # visit_percent=(\n",
    "    #     \"order_channel\",\n",
    "    #     partial(item_freq, item=\"during the visit of a sales rep\"),\n",
    "    # ),\n",
    "    # other_percent=(\"order_channel\", partial(item_freq, item=\"other\")),\n",
    "    mean_qty=(\"quantity\", \"mean\"),\n",
    "    max_qty=(\"quantity\", \"max\"),\n",
    "    min_qty=(\"quantity\", \"min\"),\n",
    "    std_qty=(\"quantity\", \"std\"),\n",
    "    last_qty_1=(\"quantity\", partial(last, n=1)),\n",
    "    last_qty_2=(\"quantity\", partial(last, n=2)),\n",
    "    last_qty_3=(\"quantity\", partial(last, n=3)),\n",
    "    last_qty_4=(\"quantity\", partial(last, n=4)),\n",
    "    mean_sales=(\"sales_net\", \"mean\"),\n",
    "    max_sales=(\"sales_net\", \"max\"),\n",
    "    min_sales=(\"sales_net\", \"min\"),\n",
    "    std_sales=(\"sales_net\", \"std\"),\n",
    "    last_sales_1=(\"sales_net\", partial(last, n=1)),\n",
    "    last_sales_2=(\"sales_net\", partial(last, n=2)),\n",
    "    last_sales_3=(\"sales_net\", partial(last, n=3)),\n",
    "    last_sales_4=(\"sales_net\", partial(last, n=4)),\n",
    "    n_branch=(\"branch_id\", \"nunique\"),\n",
    "    n_product=(\"product_id\", \"nunique\"),\n",
    "    purchase_freq=(\"date_order\", purchase_frequency),\n",
    "    n_purchases=(\"date_order\", 'count'),\n",
    "    delay_purchase_n1=(\"date_order\", partial(time_delay, n=1)),\n",
    "    delay_purchase_n2=(\"date_order\", partial(time_delay, n=2)),\n",
    "    delay_purchase_n3=(\"date_order\", partial(time_delay, n=3)),\n",
    "    delay_purchase_n4=(\"date_order\", partial(time_delay, n=4)),\n",
    "    client_age=(\"date_order\", partial(time_from_today, n=0)),\n",
    "    time_from_last_purchase=(\"date_order\", partial(time_from_today, n=-1)),\n",
    "    client_lifetime=(\"date_order\", lifetime),\n",
    ")\n",
    "features"
   ]
  },
  {
   "cell_type": "code",
   "execution_count": 49,
   "metadata": {},
   "outputs": [],
   "source": [
    "import os\n",
    "features.to_csv(os.path.join('..',cst.FEATURES_PATH))"
   ]
  },
  {
   "cell_type": "code",
   "execution_count": null,
   "metadata": {},
   "outputs": [],
   "source": []
  },
  {
   "cell_type": "markdown",
   "metadata": {},
   "source": [
    "# Extract labels"
   ]
  },
  {
   "cell_type": "code",
   "execution_count": 50,
   "metadata": {},
   "outputs": [
    {
     "data": {
      "text/html": [
       "<div>\n",
       "<style scoped>\n",
       "    .dataframe tbody tr th:only-of-type {\n",
       "        vertical-align: middle;\n",
       "    }\n",
       "\n",
       "    .dataframe tbody tr th {\n",
       "        vertical-align: top;\n",
       "    }\n",
       "\n",
       "    .dataframe thead th {\n",
       "        text-align: right;\n",
       "    }\n",
       "</style>\n",
       "<table border=\"1\" class=\"dataframe\">\n",
       "  <thead>\n",
       "    <tr style=\"text-align: right;\">\n",
       "      <th></th>\n",
       "      <th>date_order</th>\n",
       "      <th>date_invoice</th>\n",
       "      <th>product_id</th>\n",
       "      <th>client_id</th>\n",
       "      <th>sales_net</th>\n",
       "      <th>quantity</th>\n",
       "      <th>order_channel</th>\n",
       "      <th>branch_id</th>\n",
       "    </tr>\n",
       "  </thead>\n",
       "  <tbody>\n",
       "    <tr>\n",
       "      <th>230799</th>\n",
       "      <td>2017-09-22</td>\n",
       "      <td>2017-09-25</td>\n",
       "      <td>529686</td>\n",
       "      <td>791423</td>\n",
       "      <td>17.636400</td>\n",
       "      <td>3</td>\n",
       "      <td>online</td>\n",
       "      <td>4097</td>\n",
       "    </tr>\n",
       "    <tr>\n",
       "      <th>120793</th>\n",
       "      <td>2017-09-22</td>\n",
       "      <td>2017-09-25</td>\n",
       "      <td>2821712</td>\n",
       "      <td>688261</td>\n",
       "      <td>1062.931200</td>\n",
       "      <td>3</td>\n",
       "      <td>online</td>\n",
       "      <td>4157</td>\n",
       "    </tr>\n",
       "    <tr>\n",
       "      <th>233197</th>\n",
       "      <td>2017-09-22</td>\n",
       "      <td>2017-09-25</td>\n",
       "      <td>183015</td>\n",
       "      <td>585799</td>\n",
       "      <td>199.189200</td>\n",
       "      <td>3</td>\n",
       "      <td>online</td>\n",
       "      <td>5274</td>\n",
       "    </tr>\n",
       "    <tr>\n",
       "      <th>259160</th>\n",
       "      <td>2017-09-22</td>\n",
       "      <td>2017-09-25</td>\n",
       "      <td>2634108</td>\n",
       "      <td>585799</td>\n",
       "      <td>445.740000</td>\n",
       "      <td>3</td>\n",
       "      <td>online</td>\n",
       "      <td>5274</td>\n",
       "    </tr>\n",
       "    <tr>\n",
       "      <th>223459</th>\n",
       "      <td>2017-09-22</td>\n",
       "      <td>2017-09-25</td>\n",
       "      <td>686712</td>\n",
       "      <td>688261</td>\n",
       "      <td>216.218400</td>\n",
       "      <td>3</td>\n",
       "      <td>online</td>\n",
       "      <td>4157</td>\n",
       "    </tr>\n",
       "    <tr>\n",
       "      <th>...</th>\n",
       "      <td>...</td>\n",
       "      <td>...</td>\n",
       "      <td>...</td>\n",
       "      <td>...</td>\n",
       "      <td>...</td>\n",
       "      <td>...</td>\n",
       "      <td>...</td>\n",
       "      <td>...</td>\n",
       "    </tr>\n",
       "    <tr>\n",
       "      <th>54552654</th>\n",
       "      <td>2019-06-23</td>\n",
       "      <td>2019-06-24</td>\n",
       "      <td>2104306</td>\n",
       "      <td>1060424</td>\n",
       "      <td>763.002000</td>\n",
       "      <td>3</td>\n",
       "      <td>by phone</td>\n",
       "      <td>5663</td>\n",
       "    </tr>\n",
       "    <tr>\n",
       "      <th>54390904</th>\n",
       "      <td>2019-06-23</td>\n",
       "      <td>2019-06-24</td>\n",
       "      <td>2657410</td>\n",
       "      <td>1060424</td>\n",
       "      <td>203.975868</td>\n",
       "      <td>401</td>\n",
       "      <td>by phone</td>\n",
       "      <td>5663</td>\n",
       "    </tr>\n",
       "    <tr>\n",
       "      <th>60244798</th>\n",
       "      <td>2019-06-23</td>\n",
       "      <td>2019-08-22</td>\n",
       "      <td>276087</td>\n",
       "      <td>66625</td>\n",
       "      <td>66.240000</td>\n",
       "      <td>3</td>\n",
       "      <td>by phone</td>\n",
       "      <td>3194</td>\n",
       "    </tr>\n",
       "    <tr>\n",
       "      <th>62167325</th>\n",
       "      <td>2019-06-23</td>\n",
       "      <td>2019-09-11</td>\n",
       "      <td>539670</td>\n",
       "      <td>17765</td>\n",
       "      <td>0.056120</td>\n",
       "      <td>61</td>\n",
       "      <td>by phone</td>\n",
       "      <td>10742</td>\n",
       "    </tr>\n",
       "    <tr>\n",
       "      <th>62221345</th>\n",
       "      <td>2019-06-23</td>\n",
       "      <td>2019-09-11</td>\n",
       "      <td>2999507</td>\n",
       "      <td>17765</td>\n",
       "      <td>701.454000</td>\n",
       "      <td>3</td>\n",
       "      <td>by phone</td>\n",
       "      <td>10742</td>\n",
       "    </tr>\n",
       "  </tbody>\n",
       "</table>\n",
       "<p>50706716 rows × 8 columns</p>\n",
       "</div>"
      ],
      "text/plain": [
       "         date_order date_invoice  product_id  client_id    sales_net  \\\n",
       "230799   2017-09-22   2017-09-25      529686     791423    17.636400   \n",
       "120793   2017-09-22   2017-09-25     2821712     688261  1062.931200   \n",
       "233197   2017-09-22   2017-09-25      183015     585799   199.189200   \n",
       "259160   2017-09-22   2017-09-25     2634108     585799   445.740000   \n",
       "223459   2017-09-22   2017-09-25      686712     688261   216.218400   \n",
       "...             ...          ...         ...        ...          ...   \n",
       "54552654 2019-06-23   2019-06-24     2104306    1060424   763.002000   \n",
       "54390904 2019-06-23   2019-06-24     2657410    1060424   203.975868   \n",
       "60244798 2019-06-23   2019-08-22      276087      66625    66.240000   \n",
       "62167325 2019-06-23   2019-09-11      539670      17765     0.056120   \n",
       "62221345 2019-06-23   2019-09-11     2999507      17765   701.454000   \n",
       "\n",
       "          quantity order_channel  branch_id  \n",
       "230799           3        online       4097  \n",
       "120793           3        online       4157  \n",
       "233197           3        online       5274  \n",
       "259160           3        online       5274  \n",
       "223459           3        online       4157  \n",
       "...            ...           ...        ...  \n",
       "54552654         3      by phone       5663  \n",
       "54390904       401      by phone       5663  \n",
       "60244798         3      by phone       3194  \n",
       "62167325        61      by phone      10742  \n",
       "62221345         3      by phone      10742  \n",
       "\n",
       "[50706716 rows x 8 columns]"
      ]
     },
     "execution_count": 50,
     "metadata": {},
     "output_type": "execute_result"
    }
   ],
   "source": []
  },
  {
   "cell_type": "code",
   "execution_count": 55,
   "metadata": {},
   "outputs": [
    {
     "name": "stderr",
     "output_type": "stream",
     "text": [
      "/var/folders/4b/dwg2nq6d56bdx_qd1pqxp_800000gn/T/ipykernel_38604/1958035026.py:2: RuntimeWarning: Mean of empty slice.\n",
      "  return pd.Timedelta(np.diff(dates.unique()).mean()).total_seconds()/(60*60*24)\n",
      "/Users/henrique/miniforge3/envs/bcg/lib/python3.8/site-packages/numpy/core/_methods.py:189: RuntimeWarning: divide by zero encountered in true_divide\n",
      "  ret = ret.dtype.type(ret / rcount)\n"
     ]
    }
   ],
   "source": [
    "freqs = data.groupby(by=\"client_id\", as_index=False).agg(\n",
    "    last_purchase=('date_order', 'max'), \n",
    "    frequency=('date_order', purchase_frequency), \n",
    ")"
   ]
  },
  {
   "cell_type": "code",
   "execution_count": 58,
   "metadata": {},
   "outputs": [],
   "source": [
    "from datetime import timedelta\n",
    "split_day = cst.MAX_DATE - timedelta(90)"
   ]
  },
  {
   "cell_type": "code",
   "execution_count": 64,
   "metadata": {},
   "outputs": [],
   "source": [
    "freq_churn = split_day - timedelta(30)\n",
    "medium_churn = split_day - timedelta(90)"
   ]
  },
  {
   "cell_type": "code",
   "execution_count": 69,
   "metadata": {},
   "outputs": [],
   "source": [
    "freqs.loc[(freqs['frequency'] > 0) & (freqs['frequency'] < 10), 'client_category'] = 'freq_buyer'\n",
    "freqs.loc[(freqs['frequency'] >= 10) & (freqs['frequency'] < 32), 'client_category'] = 'med_buyer'\n",
    "freqs.loc[(freqs['frequency'] >=32) | (freqs['frequency'] == 0), 'client_category'] = 'infreq_buyer'"
   ]
  },
  {
   "cell_type": "code",
   "execution_count": 70,
   "metadata": {},
   "outputs": [],
   "source": [
    "freqs.loc[(freqs['client_category']=='freq_buyer') & (freqs['last_purchase'] <= freq_churn), 'is_churn'] = 1\n",
    "freqs.loc[(freqs['client_category']=='freq_buyer') & (freqs['last_purchase'] > freq_churn), 'is_churn'] = 0\n",
    "freqs.loc[(freqs['client_category']=='med_buyer') & (freqs['last_purchase'] <= medium_churn), 'is_churn'] = 1\n",
    "freqs.loc[(freqs['client_category']=='med_buyer') & (freqs['last_purchase'] > medium_churn), 'is_churn'] = 0"
   ]
  },
  {
   "cell_type": "code",
   "execution_count": 77,
   "metadata": {},
   "outputs": [],
   "source": [
    "freqs.to_csv(os.path.join('..', cst.TRAIN_TARGET_PATH))"
   ]
  },
  {
   "cell_type": "code",
   "execution_count": null,
   "metadata": {},
   "outputs": [],
   "source": []
  }
 ],
 "metadata": {
  "interpreter": {
   "hash": "61c02cc6cc60e2aa9d27ab524b81e9f4bca9132d1b517bd5e0da16c7571c3623"
  },
  "kernelspec": {
   "display_name": "Python 3.8.12 ('bcg')",
   "language": "python",
   "name": "python3"
  },
  "language_info": {
   "codemirror_mode": {
    "name": "ipython",
    "version": 3
   },
   "file_extension": ".py",
   "mimetype": "text/x-python",
   "name": "python",
   "nbconvert_exporter": "python",
   "pygments_lexer": "ipython3",
   "version": "3.8.12"
  },
  "orig_nbformat": 4
 },
 "nbformat": 4,
 "nbformat_minor": 2
}
