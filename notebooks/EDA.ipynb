{
 "cells": [
  {
   "cell_type": "code",
   "execution_count": 1,
   "metadata": {},
   "outputs": [],
   "source": [
    "%load_ext autoreload\n",
    "%autoreload 2"
   ]
  },
  {
   "cell_type": "code",
   "execution_count": 2,
   "metadata": {},
   "outputs": [],
   "source": [
    "import sys\n",
    "\n",
    "sys.path.append('..')\n",
    "sys.path.append('../src')\n",
    "\n",
    "import pandas as pd\n",
    "import numpy as np\n",
    "\n",
    "from loading import Loader\n",
    "from preprocessing import Preprocessor"
   ]
  },
  {
   "cell_type": "code",
   "execution_count": 3,
   "metadata": {},
   "outputs": [],
   "source": [
    "data_loader = Loader()\n",
    "data = data_loader.load_data()"
   ]
  },
  {
   "cell_type": "code",
   "execution_count": null,
   "metadata": {},
   "outputs": [],
   "source": [
    "preprocessor = Preprocessor()\n",
    "preprocessor.preprocess(data)"
   ]
  },
  {
   "cell_type": "markdown",
   "metadata": {},
   "source": [
    "# Loading data"
   ]
  },
  {
   "cell_type": "code",
   "execution_count": 9,
   "metadata": {},
   "outputs": [],
   "source": [
    "data_loader = Loader(sample=1_000_000)\n",
    "data = data_loader.load_data('../data/inputs/transactions_dataset.csv')"
   ]
  },
  {
   "cell_type": "code",
   "execution_count": 10,
   "metadata": {},
   "outputs": [
    {
     "data": {
      "text/html": [
       "<div>\n",
       "<style scoped>\n",
       "    .dataframe tbody tr th:only-of-type {\n",
       "        vertical-align: middle;\n",
       "    }\n",
       "\n",
       "    .dataframe tbody tr th {\n",
       "        vertical-align: top;\n",
       "    }\n",
       "\n",
       "    .dataframe thead th {\n",
       "        text-align: right;\n",
       "    }\n",
       "</style>\n",
       "<table border=\"1\" class=\"dataframe\">\n",
       "  <thead>\n",
       "    <tr style=\"text-align: right;\">\n",
       "      <th></th>\n",
       "      <th>date_order</th>\n",
       "      <th>date_invoice</th>\n",
       "      <th>product_id</th>\n",
       "      <th>client_id</th>\n",
       "      <th>sales_net</th>\n",
       "      <th>quantity</th>\n",
       "      <th>order_channel</th>\n",
       "      <th>branch_id</th>\n",
       "    </tr>\n",
       "  </thead>\n",
       "  <tbody>\n",
       "    <tr>\n",
       "      <th>0</th>\n",
       "      <td>2017-09-25</td>\n",
       "      <td>2017-09-25</td>\n",
       "      <td>2376333</td>\n",
       "      <td>188502</td>\n",
       "      <td>155.44320</td>\n",
       "      <td>3</td>\n",
       "      <td>online</td>\n",
       "      <td>2732</td>\n",
       "    </tr>\n",
       "    <tr>\n",
       "      <th>1</th>\n",
       "      <td>2017-09-25</td>\n",
       "      <td>2017-09-25</td>\n",
       "      <td>2520527</td>\n",
       "      <td>835089</td>\n",
       "      <td>16.39440</td>\n",
       "      <td>3</td>\n",
       "      <td>at the store</td>\n",
       "      <td>10279</td>\n",
       "    </tr>\n",
       "    <tr>\n",
       "      <th>2</th>\n",
       "      <td>2017-09-25</td>\n",
       "      <td>2017-09-25</td>\n",
       "      <td>2536756</td>\n",
       "      <td>1977896</td>\n",
       "      <td>365.76624</td>\n",
       "      <td>21</td>\n",
       "      <td>online</td>\n",
       "      <td>6184</td>\n",
       "    </tr>\n",
       "    <tr>\n",
       "      <th>3</th>\n",
       "      <td>2017-09-25</td>\n",
       "      <td>2017-09-25</td>\n",
       "      <td>3028673</td>\n",
       "      <td>598816</td>\n",
       "      <td>8.59878</td>\n",
       "      <td>201</td>\n",
       "      <td>at the store</td>\n",
       "      <td>4200</td>\n",
       "    </tr>\n",
       "    <tr>\n",
       "      <th>4</th>\n",
       "      <td>2017-09-25</td>\n",
       "      <td>2017-09-25</td>\n",
       "      <td>203377</td>\n",
       "      <td>2086861</td>\n",
       "      <td>1093.37400</td>\n",
       "      <td>3</td>\n",
       "      <td>by phone</td>\n",
       "      <td>7051</td>\n",
       "    </tr>\n",
       "  </tbody>\n",
       "</table>\n",
       "</div>"
      ],
      "text/plain": [
       "   date_order date_invoice  product_id  client_id   sales_net  quantity  \\\n",
       "0  2017-09-25   2017-09-25     2376333     188502   155.44320         3   \n",
       "1  2017-09-25   2017-09-25     2520527     835089    16.39440         3   \n",
       "2  2017-09-25   2017-09-25     2536756    1977896   365.76624        21   \n",
       "3  2017-09-25   2017-09-25     3028673     598816     8.59878       201   \n",
       "4  2017-09-25   2017-09-25      203377    2086861  1093.37400         3   \n",
       "\n",
       "  order_channel  branch_id  \n",
       "0        online       2732  \n",
       "1  at the store      10279  \n",
       "2        online       6184  \n",
       "3  at the store       4200  \n",
       "4      by phone       7051  "
      ]
     },
     "execution_count": 10,
     "metadata": {},
     "output_type": "execute_result"
    }
   ],
   "source": [
    "data.head()"
   ]
  },
  {
   "cell_type": "markdown",
   "metadata": {},
   "source": [
    "# Data Quality checks"
   ]
  },
  {
   "cell_type": "markdown",
   "metadata": {},
   "source": [
    "## Quantity"
   ]
  },
  {
   "cell_type": "code",
   "execution_count": 24,
   "metadata": {},
   "outputs": [
    {
     "data": {
      "text/plain": [
       "0"
      ]
     },
     "execution_count": 24,
     "metadata": {},
     "output_type": "execute_result"
    }
   ],
   "source": [
    "(data['quantity'] <= 0).sum()"
   ]
  },
  {
   "cell_type": "code",
   "execution_count": 30,
   "metadata": {},
   "outputs": [
    {
     "data": {
      "text/plain": [
       "<AxesSubplot:ylabel='Frequency'>"
      ]
     },
     "execution_count": 30,
     "metadata": {},
     "output_type": "execute_result"
    },
    {
     "data": {
      "image/png": "[encoded data removed]",
      "text/plain": [
       "<Figure size 432x288 with 1 Axes>"
      ]
     },
     "metadata": {
      "needs_background": "light"
     },
     "output_type": "display_data"
    }
   ],
   "source": [
    "np.log(data['quantity']).plot(kind='hist', bins=100)"
   ]
  },
  {
   "cell_type": "markdown",
   "metadata": {},
   "source": [
    "## Sales Net"
   ]
  },
  {
   "cell_type": "code",
   "execution_count": 31,
   "metadata": {},
   "outputs": [
    {
     "data": {
      "text/plain": [
       "4654"
      ]
     },
     "execution_count": 31,
     "metadata": {},
     "output_type": "execute_result"
    }
   ],
   "source": [
    "(data['sales_net'] <= 0).sum()"
   ]
  },
  {
   "cell_type": "code",
   "execution_count": 33,
   "metadata": {},
   "outputs": [
    {
     "data": {
      "text/plain": [
       "<AxesSubplot:ylabel='Frequency'>"
      ]
     },
     "execution_count": 33,
     "metadata": {},
     "output_type": "execute_result"
    },
    {
     "data": {
      "image/png": "[encoded data removed]",
      "text/plain": [
       "<Figure size 432x288 with 1 Axes>"
      ]
     },
     "metadata": {
      "needs_background": "light"
     },
     "output_type": "display_data"
    }
   ],
   "source": [
    "data['sales_net'].plot(kind='hist', bins=100)"
   ]
  },
  {
   "cell_type": "markdown",
   "metadata": {},
   "source": [
    "## Dates"
   ]
  },
  {
   "cell_type": "code",
   "execution_count": 10,
   "metadata": {},
   "outputs": [
    {
     "name": "stdout",
     "output_type": "stream",
     "text": [
      "2021-07-13 00:00:00\n",
      "2016-10-12 00:00:00\n"
     ]
    }
   ],
   "source": [
    "invoices_date = pd.to_datetime(data['date_invoice'])\n",
    "print(max(invoices_date))\n",
    "print(min(invoices_date))"
   ]
  },
  {
   "cell_type": "code",
   "execution_count": 11,
   "metadata": {},
   "outputs": [
    {
     "name": "stdout",
     "output_type": "stream",
     "text": [
      "2019-09-22 00:00:00\n",
      "2017-09-22 00:00:00\n"
     ]
    }
   ],
   "source": [
    "orders_date = pd.to_datetime(data['date_order'])\n",
    "print(max(orders_date))\n",
    "print(min(orders_date))"
   ]
  },
  {
   "cell_type": "markdown",
   "metadata": {},
   "source": [
    "## Order Channel"
   ]
  },
  {
   "cell_type": "code",
   "execution_count": 40,
   "metadata": {},
   "outputs": [
    {
     "data": {
      "text/plain": [
       "array(['online', 'at the store', 'by phone',\n",
       "       'during the visit of a sales rep', 'other'], dtype=object)"
      ]
     },
     "execution_count": 40,
     "metadata": {},
     "output_type": "execute_result"
    }
   ],
   "source": [
    "data['order_channel'].unique()"
   ]
  },
  {
   "cell_type": "markdown",
   "metadata": {},
   "source": [
    "# Sales Cycle Analysis"
   ]
  },
  {
   "cell_type": "code",
   "execution_count": 5,
   "metadata": {},
   "outputs": [],
   "source": [
    "def avg_date_diff(x):\n",
    "    # Integer number of Days\n",
    "    return pd.Timedelta(np.diff(x).mean()).total_seconds()/(60*60*24)\n"
   ]
  },
  {
   "cell_type": "code",
   "execution_count": 6,
   "metadata": {},
   "outputs": [],
   "source": [
    "data['date_order'] = pd.to_datetime(data['date_order'])"
   ]
  },
  {
   "cell_type": "code",
   "execution_count": 7,
   "metadata": {},
   "outputs": [
    {
     "name": "stderr",
     "output_type": "stream",
     "text": [
      "/var/folders/4b/dwg2nq6d56bdx_qd1pqxp_800000gn/T/ipykernel_26839/2249865063.py:3: RuntimeWarning: Mean of empty slice.\n",
      "  return pd.Timedelta(np.diff(x).mean()).total_seconds()/(60*60*24)\n",
      "/Users/henrique/miniforge3/envs/bcg/lib/python3.8/site-packages/numpy/core/_methods.py:189: RuntimeWarning: divide by zero encountered in true_divide\n",
      "  ret = ret.dtype.type(ret / rcount)\n"
     ]
    }
   ],
   "source": [
    "data = data.sort_values('date_order')\n",
    "test = data.groupby(by=['client_id'])['date_order'].agg(['size', 'min', 'max', avg_date_diff]).reset_index()"
   ]
  },
  {
   "cell_type": "code",
   "execution_count": 27,
   "metadata": {},
   "outputs": [],
   "source": [
    "test.loc[(test['avg_date_diff'] >= 0) & (test['avg_date_diff'] < 10), 'frequency_category'] = 'freq'\n",
    "test.loc[(test['avg_date_diff'] >= 10) & (test['avg_date_diff'] < 35), 'frequency_category'] = 'med'\n",
    "test.loc[(test['avg_date_diff'] >= 35) | (test['avg_date_diff'] == 0), 'frequency_category'] = 'infreq'"
   ]
  },
  {
   "cell_type": "code",
   "execution_count": 9,
   "metadata": {},
   "outputs": [],
   "source": [
    "test.to_csv('intermediate_step.csv')"
   ]
  },
  {
   "cell_type": "code",
   "execution_count": 3,
   "metadata": {},
   "outputs": [],
   "source": [
    "test = pd.read_csv('intermediate_step.csv', index_col=0)"
   ]
  },
  {
   "cell_type": "code",
   "execution_count": 5,
   "metadata": {},
   "outputs": [
    {
     "data": {
      "text/html": [
       "<div>\n",
       "<style scoped>\n",
       "    .dataframe tbody tr th:only-of-type {\n",
       "        vertical-align: middle;\n",
       "    }\n",
       "\n",
       "    .dataframe tbody tr th {\n",
       "        vertical-align: top;\n",
       "    }\n",
       "\n",
       "    .dataframe thead th {\n",
       "        text-align: right;\n",
       "    }\n",
       "</style>\n",
       "<table border=\"1\" class=\"dataframe\">\n",
       "  <thead>\n",
       "    <tr style=\"text-align: right;\">\n",
       "      <th></th>\n",
       "      <th>client_id</th>\n",
       "      <th>size</th>\n",
       "      <th>min</th>\n",
       "      <th>avg_date_diff</th>\n",
       "      <th>frequency_category</th>\n",
       "    </tr>\n",
       "  </thead>\n",
       "  <tbody>\n",
       "    <tr>\n",
       "      <th>0</th>\n",
       "      <td>6</td>\n",
       "      <td>40</td>\n",
       "      <td>2017-10-27</td>\n",
       "      <td>16.794872</td>\n",
       "      <td>med</td>\n",
       "    </tr>\n",
       "    <tr>\n",
       "      <th>1</th>\n",
       "      <td>7</td>\n",
       "      <td>15</td>\n",
       "      <td>2018-07-16</td>\n",
       "      <td>11.500000</td>\n",
       "      <td>med</td>\n",
       "    </tr>\n",
       "    <tr>\n",
       "      <th>2</th>\n",
       "      <td>14</td>\n",
       "      <td>12762</td>\n",
       "      <td>2017-09-25</td>\n",
       "      <td>0.056814</td>\n",
       "      <td>freq</td>\n",
       "    </tr>\n",
       "    <tr>\n",
       "      <th>3</th>\n",
       "      <td>18</td>\n",
       "      <td>2224</td>\n",
       "      <td>2017-09-26</td>\n",
       "      <td>0.322087</td>\n",
       "      <td>freq</td>\n",
       "    </tr>\n",
       "    <tr>\n",
       "      <th>4</th>\n",
       "      <td>25</td>\n",
       "      <td>4</td>\n",
       "      <td>2018-10-10</td>\n",
       "      <td>0.000000</td>\n",
       "      <td>freq</td>\n",
       "    </tr>\n",
       "    <tr>\n",
       "      <th>...</th>\n",
       "      <td>...</td>\n",
       "      <td>...</td>\n",
       "      <td>...</td>\n",
       "      <td>...</td>\n",
       "      <td>...</td>\n",
       "    </tr>\n",
       "    <tr>\n",
       "      <th>170582</th>\n",
       "      <td>2274437</td>\n",
       "      <td>2</td>\n",
       "      <td>2018-04-24</td>\n",
       "      <td>0.000000</td>\n",
       "      <td>freq</td>\n",
       "    </tr>\n",
       "    <tr>\n",
       "      <th>170583</th>\n",
       "      <td>2274440</td>\n",
       "      <td>111</td>\n",
       "      <td>2017-09-28</td>\n",
       "      <td>6.490909</td>\n",
       "      <td>freq</td>\n",
       "    </tr>\n",
       "    <tr>\n",
       "      <th>170584</th>\n",
       "      <td>2274456</td>\n",
       "      <td>22</td>\n",
       "      <td>2019-08-26</td>\n",
       "      <td>0.333333</td>\n",
       "      <td>freq</td>\n",
       "    </tr>\n",
       "    <tr>\n",
       "      <th>170587</th>\n",
       "      <td>2274508</td>\n",
       "      <td>8</td>\n",
       "      <td>2017-10-18</td>\n",
       "      <td>0.000000</td>\n",
       "      <td>freq</td>\n",
       "    </tr>\n",
       "    <tr>\n",
       "      <th>170588</th>\n",
       "      <td>2274517</td>\n",
       "      <td>82</td>\n",
       "      <td>2017-10-02</td>\n",
       "      <td>8.592593</td>\n",
       "      <td>freq</td>\n",
       "    </tr>\n",
       "  </tbody>\n",
       "</table>\n",
       "<p>155094 rows × 5 columns</p>\n",
       "</div>"
      ],
      "text/plain": [
       "        client_id   size         min  avg_date_diff frequency_category\n",
       "0               6     40  2017-10-27      16.794872                med\n",
       "1               7     15  2018-07-16      11.500000                med\n",
       "2              14  12762  2017-09-25       0.056814               freq\n",
       "3              18   2224  2017-09-26       0.322087               freq\n",
       "4              25      4  2018-10-10       0.000000               freq\n",
       "...           ...    ...         ...            ...                ...\n",
       "170582    2274437      2  2018-04-24       0.000000               freq\n",
       "170583    2274440    111  2017-09-28       6.490909               freq\n",
       "170584    2274456     22  2019-08-26       0.333333               freq\n",
       "170587    2274508      8  2017-10-18       0.000000               freq\n",
       "170588    2274517     82  2017-10-02       8.592593               freq\n",
       "\n",
       "[155094 rows x 5 columns]"
      ]
     },
     "execution_count": 5,
     "metadata": {},
     "output_type": "execute_result"
    }
   ],
   "source": [
    "test.loc[test['frequency_category']!='infreq', :]"
   ]
  },
  {
   "cell_type": "code",
   "execution_count": 12,
   "metadata": {},
   "outputs": [
    {
     "data": {
      "text/plain": [
       "<AxesSubplot:xlabel='avg_date_diff', ylabel='Count'>"
      ]
     },
     "execution_count": 12,
     "metadata": {},
     "output_type": "execute_result"
    },
    {
     "data": {
      "image/png": "[encoded data removed]",
      "text/plain": [
       "<Figure size 432x288 with 1 Axes>"
      ]
     },
     "metadata": {
      "needs_background": "light"
     },
     "output_type": "display_data"
    }
   ],
   "source": [
    "import seaborn as sns\n",
    "\n",
    "sns.histplot(test.loc[test['frequency_category']!='infreq', :], x='avg_date_diff', hue='frequency_category')"
   ]
  },
  {
   "cell_type": "code",
   "execution_count": 22,
   "metadata": {},
   "outputs": [
    {
     "data": {
      "text/plain": [
       "datetime.datetime(2019, 9, 2, 0, 0)"
      ]
     },
     "execution_count": 22,
     "metadata": {},
     "output_type": "execute_result"
    }
   ],
   "source": [
    "from datetime import datetime, timedelta\n",
    "datetime.strptime('2019-09-22', '%Y-%m-%d') - timedelta(20)"
   ]
  },
  {
   "cell_type": "code",
   "execution_count": 38,
   "metadata": {},
   "outputs": [],
   "source": [
    "from datetime import datetime\n",
    "test['is_churn'] = 0\n",
    "test.loc[(test['frequency_category'] == 'freq') & (test['max'] < datetime.strptime('2019-09-22', '%Y-%m-%d') - timedelta(40)), 'is_churn'] = 1\n",
    "test.loc[(test['frequency_category'] == 'med') & (test['max'] < datetime.strptime('2019-09-22', '%Y-%m-%d') - timedelta(100)), 'is_churn'] = 1\n",
    "test.loc[(test['frequency_category'] == 'infreq') & (test['max'] < datetime.strptime('2019-09-22', '%Y-%m-%d') - timedelta(400)), 'is_churn'] = 1"
   ]
  },
  {
   "cell_type": "code",
   "execution_count": 39,
   "metadata": {},
   "outputs": [
    {
     "name": "stdout",
     "output_type": "stream",
     "text": [
      "58316\n",
      "0.34185088135811803\n"
     ]
    }
   ],
   "source": [
    "print((test['is_churn'] == 1).sum())\n",
    "print((test['is_churn'] == 1).sum()/170589)"
   ]
  },
  {
   "cell_type": "markdown",
   "metadata": {},
   "source": [
    "# Feature engineering"
   ]
  },
  {
   "cell_type": "code",
   "execution_count": 45,
   "metadata": {},
   "outputs": [],
   "source": [
    "data['date_order'] = pd.to_datetime(data['date_order'])\n",
    "data = data.sort_values('date_order')"
   ]
  },
  {
   "cell_type": "code",
   "execution_count": 58,
   "metadata": {},
   "outputs": [],
   "source": [
    "def purchase_frequency(dates):\n",
    "    return pd.Timedelta(np.diff(dates).mean()).total_seconds()/(60*60*24)\n",
    "\n",
    "def time_delay(dates, n=1):\n",
    "    try:\n",
    "        return pd.Timedelta(dates.iloc[-n] - dates.iloc[-n-1]).total_seconds()/(60*60*24)\n",
    "    except IndexError:\n",
    "        return np.nan\n",
    "def last(sequence, n=1):\n",
    "    try:\n",
    "        return sequence.iloc[-n]\n",
    "    except IndexError:\n",
    "        return np.nan"
   ]
  },
  {
   "cell_type": "code",
   "execution_count": 59,
   "metadata": {},
   "outputs": [],
   "source": [
    "from functools import partial"
   ]
  },
  {
   "cell_type": "code",
   "execution_count": 60,
   "metadata": {},
   "outputs": [
    {
     "name": "stderr",
     "output_type": "stream",
     "text": [
      "/var/folders/4b/dwg2nq6d56bdx_qd1pqxp_800000gn/T/ipykernel_28577/416716195.py:2: RuntimeWarning: Mean of empty slice.\n",
      "  return pd.Timedelta(np.diff(dates).mean()).total_seconds()/(60*60*24)\n",
      "/Users/henrique/miniforge3/envs/bcg/lib/python3.8/site-packages/numpy/core/_methods.py:189: RuntimeWarning: divide by zero encountered in true_divide\n",
      "  ret = ret.dtype.type(ret / rcount)\n"
     ]
    },
    {
     "data": {
      "text/html": [
       "<div>\n",
       "<style scoped>\n",
       "    .dataframe tbody tr th:only-of-type {\n",
       "        vertical-align: middle;\n",
       "    }\n",
       "\n",
       "    .dataframe tbody tr th {\n",
       "        vertical-align: top;\n",
       "    }\n",
       "\n",
       "    .dataframe thead th {\n",
       "        text-align: right;\n",
       "    }\n",
       "</style>\n",
       "<table border=\"1\" class=\"dataframe\">\n",
       "  <thead>\n",
       "    <tr style=\"text-align: right;\">\n",
       "      <th></th>\n",
       "      <th>client_id</th>\n",
       "      <th>mean_qty</th>\n",
       "      <th>max_qty</th>\n",
       "      <th>min_qty</th>\n",
       "      <th>std_qty</th>\n",
       "      <th>last_qty_1</th>\n",
       "      <th>last_qty_2</th>\n",
       "      <th>last_qty_3</th>\n",
       "      <th>last_qty_4</th>\n",
       "      <th>mean_sales</th>\n",
       "      <th>...</th>\n",
       "      <th>last_sales_2</th>\n",
       "      <th>last_sales_3</th>\n",
       "      <th>last_sales_4</th>\n",
       "      <th>n_branch</th>\n",
       "      <th>n_product</th>\n",
       "      <th>purchase_freq</th>\n",
       "      <th>delay_purchase_n1</th>\n",
       "      <th>delay_purchase_n2</th>\n",
       "      <th>delay_purchase_n3</th>\n",
       "      <th>delay_purchase_n4</th>\n",
       "    </tr>\n",
       "  </thead>\n",
       "  <tbody>\n",
       "    <tr>\n",
       "      <th>0</th>\n",
       "      <td>14</td>\n",
       "      <td>374.132867</td>\n",
       "      <td>7201</td>\n",
       "      <td>3</td>\n",
       "      <td>1082.141673</td>\n",
       "      <td>4801</td>\n",
       "      <td>3.0</td>\n",
       "      <td>4801.0</td>\n",
       "      <td>4801.0</td>\n",
       "      <td>165.851359</td>\n",
       "      <td>...</td>\n",
       "      <td>222.621600</td>\n",
       "      <td>129.673410</td>\n",
       "      <td>129.673410</td>\n",
       "      <td>3</td>\n",
       "      <td>248</td>\n",
       "      <td>0.108772</td>\n",
       "      <td>0.0</td>\n",
       "      <td>0.0</td>\n",
       "      <td>0.0</td>\n",
       "      <td>0.0</td>\n",
       "    </tr>\n",
       "    <tr>\n",
       "      <th>1</th>\n",
       "      <td>18</td>\n",
       "      <td>30.666667</td>\n",
       "      <td>401</td>\n",
       "      <td>3</td>\n",
       "      <td>84.053123</td>\n",
       "      <td>3</td>\n",
       "      <td>31.0</td>\n",
       "      <td>3.0</td>\n",
       "      <td>11.0</td>\n",
       "      <td>52.399015</td>\n",
       "      <td>...</td>\n",
       "      <td>18.956293</td>\n",
       "      <td>12.088800</td>\n",
       "      <td>41.370560</td>\n",
       "      <td>1</td>\n",
       "      <td>22</td>\n",
       "      <td>0.782609</td>\n",
       "      <td>5.0</td>\n",
       "      <td>0.0</td>\n",
       "      <td>0.0</td>\n",
       "      <td>0.0</td>\n",
       "    </tr>\n",
       "    <tr>\n",
       "      <th>2</th>\n",
       "      <td>40</td>\n",
       "      <td>6.666667</td>\n",
       "      <td>13</td>\n",
       "      <td>3</td>\n",
       "      <td>3.444803</td>\n",
       "      <td>5</td>\n",
       "      <td>13.0</td>\n",
       "      <td>7.0</td>\n",
       "      <td>3.0</td>\n",
       "      <td>112.776411</td>\n",
       "      <td>...</td>\n",
       "      <td>105.267933</td>\n",
       "      <td>64.786400</td>\n",
       "      <td>47.527200</td>\n",
       "      <td>1</td>\n",
       "      <td>5</td>\n",
       "      <td>0.000000</td>\n",
       "      <td>0.0</td>\n",
       "      <td>0.0</td>\n",
       "      <td>0.0</td>\n",
       "      <td>0.0</td>\n",
       "    </tr>\n",
       "    <tr>\n",
       "      <th>3</th>\n",
       "      <td>56</td>\n",
       "      <td>11.000000</td>\n",
       "      <td>11</td>\n",
       "      <td>11</td>\n",
       "      <td>NaN</td>\n",
       "      <td>11</td>\n",
       "      <td>NaN</td>\n",
       "      <td>NaN</td>\n",
       "      <td>NaN</td>\n",
       "      <td>-8.399600</td>\n",
       "      <td>...</td>\n",
       "      <td>NaN</td>\n",
       "      <td>NaN</td>\n",
       "      <td>NaN</td>\n",
       "      <td>1</td>\n",
       "      <td>1</td>\n",
       "      <td>NaN</td>\n",
       "      <td>NaN</td>\n",
       "      <td>NaN</td>\n",
       "      <td>NaN</td>\n",
       "      <td>NaN</td>\n",
       "    </tr>\n",
       "    <tr>\n",
       "      <th>4</th>\n",
       "      <td>118</td>\n",
       "      <td>3.000000</td>\n",
       "      <td>3</td>\n",
       "      <td>3</td>\n",
       "      <td>NaN</td>\n",
       "      <td>3</td>\n",
       "      <td>NaN</td>\n",
       "      <td>NaN</td>\n",
       "      <td>NaN</td>\n",
       "      <td>0.110400</td>\n",
       "      <td>...</td>\n",
       "      <td>NaN</td>\n",
       "      <td>NaN</td>\n",
       "      <td>NaN</td>\n",
       "      <td>1</td>\n",
       "      <td>1</td>\n",
       "      <td>NaN</td>\n",
       "      <td>NaN</td>\n",
       "      <td>NaN</td>\n",
       "      <td>NaN</td>\n",
       "      <td>NaN</td>\n",
       "    </tr>\n",
       "    <tr>\n",
       "      <th>...</th>\n",
       "      <td>...</td>\n",
       "      <td>...</td>\n",
       "      <td>...</td>\n",
       "      <td>...</td>\n",
       "      <td>...</td>\n",
       "      <td>...</td>\n",
       "      <td>...</td>\n",
       "      <td>...</td>\n",
       "      <td>...</td>\n",
       "      <td>...</td>\n",
       "      <td>...</td>\n",
       "      <td>...</td>\n",
       "      <td>...</td>\n",
       "      <td>...</td>\n",
       "      <td>...</td>\n",
       "      <td>...</td>\n",
       "      <td>...</td>\n",
       "      <td>...</td>\n",
       "      <td>...</td>\n",
       "      <td>...</td>\n",
       "      <td>...</td>\n",
       "    </tr>\n",
       "    <tr>\n",
       "      <th>58169</th>\n",
       "      <td>2274272</td>\n",
       "      <td>28.400000</td>\n",
       "      <td>201</td>\n",
       "      <td>3</td>\n",
       "      <td>61.738157</td>\n",
       "      <td>41</td>\n",
       "      <td>3.0</td>\n",
       "      <td>201.0</td>\n",
       "      <td>3.0</td>\n",
       "      <td>20.717820</td>\n",
       "      <td>...</td>\n",
       "      <td>18.657600</td>\n",
       "      <td>10.762344</td>\n",
       "      <td>29.587200</td>\n",
       "      <td>1</td>\n",
       "      <td>9</td>\n",
       "      <td>3.111111</td>\n",
       "      <td>0.0</td>\n",
       "      <td>0.0</td>\n",
       "      <td>4.0</td>\n",
       "      <td>8.0</td>\n",
       "    </tr>\n",
       "    <tr>\n",
       "      <th>58170</th>\n",
       "      <td>2274299</td>\n",
       "      <td>459.857143</td>\n",
       "      <td>1601</td>\n",
       "      <td>3</td>\n",
       "      <td>536.385256</td>\n",
       "      <td>3</td>\n",
       "      <td>11.0</td>\n",
       "      <td>401.0</td>\n",
       "      <td>401.0</td>\n",
       "      <td>73.140457</td>\n",
       "      <td>...</td>\n",
       "      <td>142.752720</td>\n",
       "      <td>22.319660</td>\n",
       "      <td>37.039568</td>\n",
       "      <td>1</td>\n",
       "      <td>7</td>\n",
       "      <td>3.000000</td>\n",
       "      <td>13.0</td>\n",
       "      <td>5.0</td>\n",
       "      <td>0.0</td>\n",
       "      <td>0.0</td>\n",
       "    </tr>\n",
       "    <tr>\n",
       "      <th>58171</th>\n",
       "      <td>2274322</td>\n",
       "      <td>7.000000</td>\n",
       "      <td>11</td>\n",
       "      <td>3</td>\n",
       "      <td>5.656854</td>\n",
       "      <td>3</td>\n",
       "      <td>11.0</td>\n",
       "      <td>NaN</td>\n",
       "      <td>NaN</td>\n",
       "      <td>22.770920</td>\n",
       "      <td>...</td>\n",
       "      <td>36.351040</td>\n",
       "      <td>NaN</td>\n",
       "      <td>NaN</td>\n",
       "      <td>1</td>\n",
       "      <td>2</td>\n",
       "      <td>0.000000</td>\n",
       "      <td>0.0</td>\n",
       "      <td>NaN</td>\n",
       "      <td>NaN</td>\n",
       "      <td>NaN</td>\n",
       "    </tr>\n",
       "    <tr>\n",
       "      <th>58172</th>\n",
       "      <td>2274410</td>\n",
       "      <td>467.666667</td>\n",
       "      <td>1001</td>\n",
       "      <td>201</td>\n",
       "      <td>461.880215</td>\n",
       "      <td>201</td>\n",
       "      <td>201.0</td>\n",
       "      <td>1001.0</td>\n",
       "      <td>NaN</td>\n",
       "      <td>127.927251</td>\n",
       "      <td>...</td>\n",
       "      <td>13.184796</td>\n",
       "      <td>361.258498</td>\n",
       "      <td>NaN</td>\n",
       "      <td>1</td>\n",
       "      <td>3</td>\n",
       "      <td>0.500000</td>\n",
       "      <td>0.0</td>\n",
       "      <td>1.0</td>\n",
       "      <td>NaN</td>\n",
       "      <td>NaN</td>\n",
       "    </tr>\n",
       "    <tr>\n",
       "      <th>58173</th>\n",
       "      <td>2274440</td>\n",
       "      <td>68.333333</td>\n",
       "      <td>101</td>\n",
       "      <td>3</td>\n",
       "      <td>56.580326</td>\n",
       "      <td>3</td>\n",
       "      <td>101.0</td>\n",
       "      <td>101.0</td>\n",
       "      <td>NaN</td>\n",
       "      <td>197.594595</td>\n",
       "      <td>...</td>\n",
       "      <td>449.509792</td>\n",
       "      <td>91.303192</td>\n",
       "      <td>NaN</td>\n",
       "      <td>1</td>\n",
       "      <td>3</td>\n",
       "      <td>0.000000</td>\n",
       "      <td>0.0</td>\n",
       "      <td>0.0</td>\n",
       "      <td>NaN</td>\n",
       "      <td>NaN</td>\n",
       "    </tr>\n",
       "  </tbody>\n",
       "</table>\n",
       "<p>58174 rows × 24 columns</p>\n",
       "</div>"
      ],
      "text/plain": [
       "       client_id    mean_qty  max_qty  min_qty      std_qty  last_qty_1  \\\n",
       "0             14  374.132867     7201        3  1082.141673        4801   \n",
       "1             18   30.666667      401        3    84.053123           3   \n",
       "2             40    6.666667       13        3     3.444803           5   \n",
       "3             56   11.000000       11       11          NaN          11   \n",
       "4            118    3.000000        3        3          NaN           3   \n",
       "...          ...         ...      ...      ...          ...         ...   \n",
       "58169    2274272   28.400000      201        3    61.738157          41   \n",
       "58170    2274299  459.857143     1601        3   536.385256           3   \n",
       "58171    2274322    7.000000       11        3     5.656854           3   \n",
       "58172    2274410  467.666667     1001      201   461.880215         201   \n",
       "58173    2274440   68.333333      101        3    56.580326           3   \n",
       "\n",
       "       last_qty_2  last_qty_3  last_qty_4  mean_sales  ...  last_sales_2  \\\n",
       "0             3.0      4801.0      4801.0  165.851359  ...    222.621600   \n",
       "1            31.0         3.0        11.0   52.399015  ...     18.956293   \n",
       "2            13.0         7.0         3.0  112.776411  ...    105.267933   \n",
       "3             NaN         NaN         NaN   -8.399600  ...           NaN   \n",
       "4             NaN         NaN         NaN    0.110400  ...           NaN   \n",
       "...           ...         ...         ...         ...  ...           ...   \n",
       "58169         3.0       201.0         3.0   20.717820  ...     18.657600   \n",
       "58170        11.0       401.0       401.0   73.140457  ...    142.752720   \n",
       "58171        11.0         NaN         NaN   22.770920  ...     36.351040   \n",
       "58172       201.0      1001.0         NaN  127.927251  ...     13.184796   \n",
       "58173       101.0       101.0         NaN  197.594595  ...    449.509792   \n",
       "\n",
       "       last_sales_3  last_sales_4  n_branch  n_product  purchase_freq  \\\n",
       "0        129.673410    129.673410         3        248       0.108772   \n",
       "1         12.088800     41.370560         1         22       0.782609   \n",
       "2         64.786400     47.527200         1          5       0.000000   \n",
       "3               NaN           NaN         1          1            NaN   \n",
       "4               NaN           NaN         1          1            NaN   \n",
       "...             ...           ...       ...        ...            ...   \n",
       "58169     10.762344     29.587200         1          9       3.111111   \n",
       "58170     22.319660     37.039568         1          7       3.000000   \n",
       "58171           NaN           NaN         1          2       0.000000   \n",
       "58172    361.258498           NaN         1          3       0.500000   \n",
       "58173     91.303192           NaN         1          3       0.000000   \n",
       "\n",
       "       delay_purchase_n1  delay_purchase_n2  delay_purchase_n3  \\\n",
       "0                    0.0                0.0                0.0   \n",
       "1                    5.0                0.0                0.0   \n",
       "2                    0.0                0.0                0.0   \n",
       "3                    NaN                NaN                NaN   \n",
       "4                    NaN                NaN                NaN   \n",
       "...                  ...                ...                ...   \n",
       "58169                0.0                0.0                4.0   \n",
       "58170               13.0                5.0                0.0   \n",
       "58171                0.0                NaN                NaN   \n",
       "58172                0.0                1.0                NaN   \n",
       "58173                0.0                0.0                NaN   \n",
       "\n",
       "       delay_purchase_n4  \n",
       "0                    0.0  \n",
       "1                    0.0  \n",
       "2                    0.0  \n",
       "3                    NaN  \n",
       "4                    NaN  \n",
       "...                  ...  \n",
       "58169                8.0  \n",
       "58170                0.0  \n",
       "58171                NaN  \n",
       "58172                NaN  \n",
       "58173                NaN  \n",
       "\n",
       "[58174 rows x 24 columns]"
      ]
     },
     "execution_count": 60,
     "metadata": {},
     "output_type": "execute_result"
    }
   ],
   "source": [
    "data.groupby(by='client_id', as_index=False).agg(\n",
    "    mean_qty=('quantity', 'mean'),\n",
    "    max_qty=('quantity', 'max'),\n",
    "    min_qty=('quantity', 'min'),\n",
    "    std_qty=('quantity', 'std'),\n",
    "    last_qty_1=('quantity', partial(last, n=1)),\n",
    "    last_qty_2=('quantity', partial(last, n=2)),\n",
    "    last_qty_3=('quantity', partial(last, n=3)),\n",
    "    last_qty_4=('quantity', partial(last, n=4)),\n",
    "    mean_sales=('sales_net', 'mean'),\n",
    "    max_sales=('sales_net', 'max'),\n",
    "    min_sales=('sales_net', 'min'),\n",
    "    std_sales=('sales_net', 'std'),\n",
    "    last_sales_1=('sales_net', partial(last, n=1)),\n",
    "    last_sales_2=('sales_net', partial(last, n=2)),\n",
    "    last_sales_3=('sales_net', partial(last, n=3)),\n",
    "    last_sales_4=('sales_net', partial(last, n=4)),\n",
    "    n_branch=('branch_id', 'nunique'),\n",
    "    n_product=('product_id', 'nunique'),\n",
    "    purchase_freq=('date_order', purchase_frequency),\n",
    "    delay_purchase_n1=('date_order', partial(time_delay, n=1)),\n",
    "    delay_purchase_n2=('date_order', partial(time_delay, n=2)),\n",
    "    delay_purchase_n3=('date_order', partial(time_delay, n=3)),\n",
    "    delay_purchase_n4=('date_order', partial(time_delay, n=4)),\n",
    ")"
   ]
  },
  {
   "cell_type": "code",
   "execution_count": 61,
   "metadata": {},
   "outputs": [
    {
     "data": {
      "text/html": [
       "<div>\n",
       "<style scoped>\n",
       "    .dataframe tbody tr th:only-of-type {\n",
       "        vertical-align: middle;\n",
       "    }\n",
       "\n",
       "    .dataframe tbody tr th {\n",
       "        vertical-align: top;\n",
       "    }\n",
       "\n",
       "    .dataframe thead th {\n",
       "        text-align: right;\n",
       "    }\n",
       "</style>\n",
       "<table border=\"1\" class=\"dataframe\">\n",
       "  <thead>\n",
       "    <tr style=\"text-align: right;\">\n",
       "      <th></th>\n",
       "      <th>date_order</th>\n",
       "      <th>date_invoice</th>\n",
       "      <th>product_id</th>\n",
       "      <th>client_id</th>\n",
       "      <th>sales_net</th>\n",
       "      <th>quantity</th>\n",
       "      <th>order_channel</th>\n",
       "      <th>branch_id</th>\n",
       "    </tr>\n",
       "  </thead>\n",
       "  <tbody>\n",
       "    <tr>\n",
       "      <th>961187</th>\n",
       "      <td>2017-10-26</td>\n",
       "      <td>2017-10-26</td>\n",
       "      <td>3000784</td>\n",
       "      <td>56</td>\n",
       "      <td>-8.3996</td>\n",
       "      <td>11</td>\n",
       "      <td>at the store</td>\n",
       "      <td>8488</td>\n",
       "    </tr>\n",
       "  </tbody>\n",
       "</table>\n",
       "</div>"
      ],
      "text/plain": [
       "       date_order date_invoice  product_id  client_id  sales_net  quantity  \\\n",
       "961187 2017-10-26   2017-10-26     3000784         56    -8.3996        11   \n",
       "\n",
       "       order_channel  branch_id  \n",
       "961187  at the store       8488  "
      ]
     },
     "execution_count": 61,
     "metadata": {},
     "output_type": "execute_result"
    }
   ],
   "source": [
    "data[data['client_id'] == 56]"
   ]
  },
  {
   "cell_type": "code",
   "execution_count": null,
   "metadata": {},
   "outputs": [],
   "source": []
  }
 ],
 "metadata": {
  "interpreter": {
   "hash": "61c02cc6cc60e2aa9d27ab524b81e9f4bca9132d1b517bd5e0da16c7571c3623"
  },
  "kernelspec": {
   "display_name": "Python 3.8.12 ('bcg')",
   "language": "python",
   "name": "python3"
  },
  "language_info": {
   "codemirror_mode": {
    "name": "ipython",
    "version": 3
   },
   "file_extension": ".py",
   "mimetype": "text/x-python",
   "name": "python",
   "nbconvert_exporter": "python",
   "pygments_lexer": "ipython3",
   "version": "3.8.12"
  },
  "orig_nbformat": 4
 },
 "nbformat": 4,
 "nbformat_minor": 2
}
